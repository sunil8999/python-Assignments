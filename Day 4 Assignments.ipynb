{
 "cells": [
  {
   "cell_type": "markdown",
   "metadata": {},
   "source": [
    "# Day 4"
   ]
  },
  {
   "cell_type": "markdown",
   "metadata": {},
   "source": [
    "##  Assignment No 1 :  Take a string and also print the index values of that particular substrings"
   ]
  },
  {
   "cell_type": "code",
   "execution_count": 1,
   "metadata": {},
   "outputs": [
    {
     "name": "stdout",
     "output_type": "stream",
     "text": [
      "The original string is:What we think we become; we are Python Programmer\n",
      "Find the position of substring Python: 32\n",
      "The index of substring Python is: 32\n",
      "The list of words in the given string is:W,h,a,t, ,w,e, ,t,h,i,n,k, ,w,e, ,b,e,c,o,m,e,;, ,w,e, ,a,r,e, ,P,y,t,h,o,n, ,P,r,o,g,r,a,m,m,e,r\n"
     ]
    }
   ],
   "source": [
    "str1 = \"What we think we become; we are Python Programmer\"\n",
    "print(\"The original string is:\" +str1)\n",
    "print(\"Find the position of substring Python:\",str1.find(\"Python\"))\n",
    "print(\"The index of substring Python is:\",str1.index(\"Python\"))\n",
    "str1.count(\"Python\", 0, 41)\n",
    "print(\"The list of words in the given string is:\" +\",\".join(str1))\n"
   ]
  },
  {
   "cell_type": "markdown",
   "metadata": {},
   "source": [
    "## Assignment No 2 : Use islower()  and isupper()  with a string"
   ]
  },
  {
   "cell_type": "code",
   "execution_count": 2,
   "metadata": {},
   "outputs": [
    {
     "name": "stdout",
     "output_type": "stream",
     "text": [
      "Hi, We are learning Python\n"
     ]
    }
   ],
   "source": [
    "str2 = \"Hi, We are learning Python\"\n",
    "print(str2)"
   ]
  },
  {
   "cell_type": "code",
   "execution_count": 3,
   "metadata": {},
   "outputs": [
    {
     "name": "stdout",
     "output_type": "stream",
     "text": [
      "The string is in upper case : False\n"
     ]
    }
   ],
   "source": [
    "print(\"The string is in upper case :\", str2.isupper())"
   ]
  },
  {
   "cell_type": "code",
   "execution_count": 4,
   "metadata": {},
   "outputs": [
    {
     "name": "stdout",
     "output_type": "stream",
     "text": [
      "The string is in lowerr case : False\n"
     ]
    }
   ],
   "source": [
    "print(\"The string is in lowerr case :\", str2.islower())"
   ]
  },
  {
   "cell_type": "code",
   "execution_count": 5,
   "metadata": {},
   "outputs": [
    {
     "name": "stdout",
     "output_type": "stream",
     "text": [
      "hi, my name is sunil shamrao dhodmani\n"
     ]
    }
   ],
   "source": [
    "str3 = \"hi, my name is sunil shamrao dhodmani\"\n",
    "print(str3)"
   ]
  },
  {
   "cell_type": "code",
   "execution_count": 6,
   "metadata": {},
   "outputs": [
    {
     "name": "stdout",
     "output_type": "stream",
     "text": [
      "The string is in upper case : False\n"
     ]
    }
   ],
   "source": [
    "print(\"The string is in upper case :\", str3.isupper())"
   ]
  },
  {
   "cell_type": "code",
   "execution_count": 8,
   "metadata": {},
   "outputs": [
    {
     "name": "stdout",
     "output_type": "stream",
     "text": [
      "The string is in lower case : True\n"
     ]
    }
   ],
   "source": [
    "print(\"The string is in lower case :\", str3.islower())"
   ]
  },
  {
   "cell_type": "code",
   "execution_count": null,
   "metadata": {},
   "outputs": [],
   "source": []
  }
 ],
 "metadata": {
  "kernelspec": {
   "display_name": "Python 3",
   "language": "python",
   "name": "python3"
  },
  "language_info": {
   "codemirror_mode": {
    "name": "ipython",
    "version": 3
   },
   "file_extension": ".py",
   "mimetype": "text/x-python",
   "name": "python",
   "nbconvert_exporter": "python",
   "pygments_lexer": "ipython3",
   "version": "3.7.6"
  }
 },
 "nbformat": 4,
 "nbformat_minor": 4
}
