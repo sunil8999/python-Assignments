{
 "cells": [
  {
   "cell_type": "markdown",
   "metadata": {},
   "source": [
    "# Day 7"
   ]
  },
  {
   "cell_type": "markdown",
   "metadata": {},
   "source": [
    "## ASSIGNMENT NO 1- USE THE DICTIONARY , port1 = {21:\"FTP\", 22:\"FTP\", 23:\"telnet\", 80:\"http\"}  and make a new dictionary in which keys become values and values become keys, as shown :    port1 = {\"FTP\":21, \"FTP\":22, \"telnet\":23, \"http\":80}"
   ]
  },
  {
   "cell_type": "code",
   "execution_count": 1,
   "metadata": {},
   "outputs": [],
   "source": [
    "port1 = {21:\"FTP\", 22:\"FTP\", 23:\"telnet\", 80:\"http\"}"
   ]
  },
  {
   "cell_type": "code",
   "execution_count": 2,
   "metadata": {},
   "outputs": [
    {
     "name": "stdout",
     "output_type": "stream",
     "text": [
      "Original port is:\n",
      "{21: 'FTP', 22: 'FTP', 23: 'telnet', 80: 'http'}\n"
     ]
    }
   ],
   "source": [
    "print(\"Original port is:\")\n",
    "print(port1)"
   ]
  },
  {
   "cell_type": "code",
   "execution_count": 5,
   "metadata": {},
   "outputs": [],
   "source": [
    "port2 = dict([(value, key) for key, value in port1.items()])"
   ]
  },
  {
   "cell_type": "code",
   "execution_count": 7,
   "metadata": {},
   "outputs": [
    {
     "name": "stdout",
     "output_type": "stream",
     "text": [
      "FTP  ,  22\n",
      "telnet  ,  23\n",
      "http  ,  80\n"
     ]
    }
   ],
   "source": [
    "for i in port2:\n",
    "    print(i, \" , \", port2[i])"
   ]
  },
  {
   "cell_type": "markdown",
   "metadata": {},
   "source": [
    "## ASSIGNMENT NO 2-  TAKE A LIST OF TUPLE AS SHOWN    [(1,2),(3,4),(5,6),(4,5)].  MAKE A NEW LIST WHICH CONTAINS THE SUM OF THE NUMBERS OF TUPLES.  INPUT  [(1,2),(3,4),(5,6)]   OUTPUT  [3,7,11]"
   ]
  },
  {
   "cell_type": "code",
   "execution_count": 8,
   "metadata": {},
   "outputs": [
    {
     "name": "stdout",
     "output_type": "stream",
     "text": [
      "[(1, 2), (3, 4), (5, 6), (4, 5)]\n"
     ]
    }
   ],
   "source": [
    "tup1 = [(1,2),(3,4),(5,6),(4,5)]\n",
    "print(tup1)"
   ]
  },
  {
   "cell_type": "code",
   "execution_count": 9,
   "metadata": {},
   "outputs": [],
   "source": [
    "a = [i+j for (i,j) in tup1]"
   ]
  },
  {
   "cell_type": "code",
   "execution_count": 10,
   "metadata": {},
   "outputs": [
    {
     "name": "stdout",
     "output_type": "stream",
     "text": [
      "The Addition is: \n",
      "[3, 7, 11, 9]\n"
     ]
    }
   ],
   "source": [
    "print(\"The Addition is: \")\n",
    "print(a)"
   ]
  },
  {
   "cell_type": "markdown",
   "metadata": {},
   "source": [
    "## ASSIGNMENT NO 3- TAKE A LIST [(1,2,3),[1,2],['a','hit','less']]  THE LIST CONTAINS TUPLE AND LIST. MAKE THE ELEMENTS OF INNER LISTS AND TUPLES TO OUTER LIST."
   ]
  },
  {
   "cell_type": "code",
   "execution_count": 11,
   "metadata": {},
   "outputs": [],
   "source": [
    "a = [(1,2,3),[1,2],['a','hit','less']]"
   ]
  },
  {
   "cell_type": "code",
   "execution_count": 12,
   "metadata": {},
   "outputs": [
    {
     "name": "stdout",
     "output_type": "stream",
     "text": [
      "[(1, 2, 3), [1, 2], ['a', 'hit', 'less']]\n"
     ]
    }
   ],
   "source": [
    "print(a)"
   ]
  },
  {
   "cell_type": "code",
   "execution_count": 14,
   "metadata": {},
   "outputs": [],
   "source": [
    "b = (tuple[ele] for ele in a)"
   ]
  },
  {
   "cell_type": "code",
   "execution_count": 16,
   "metadata": {},
   "outputs": [
    {
     "name": "stdout",
     "output_type": "stream",
     "text": [
      "<generator object <genexpr> at 0x00000259D7603748>\n"
     ]
    }
   ],
   "source": [
    "print(b)"
   ]
  },
  {
   "cell_type": "code",
   "execution_count": null,
   "metadata": {},
   "outputs": [],
   "source": []
  }
 ],
 "metadata": {
  "kernelspec": {
   "display_name": "Python 3",
   "language": "python",
   "name": "python3"
  },
  "language_info": {
   "codemirror_mode": {
    "name": "ipython",
    "version": 3
   },
   "file_extension": ".py",
   "mimetype": "text/x-python",
   "name": "python",
   "nbconvert_exporter": "python",
   "pygments_lexer": "ipython3",
   "version": "3.7.6"
  }
 },
 "nbformat": 4,
 "nbformat_minor": 4
}
